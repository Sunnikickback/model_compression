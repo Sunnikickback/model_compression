{
 "cells": [
  {
   "cell_type": "code",
   "execution_count": null,
   "id": "initial_id",
   "metadata": {
    "collapsed": true,
    "ExecuteTime": {
     "end_time": "2024-04-04T09:25:06.085682Z",
     "start_time": "2024-04-04T09:25:06.071743Z"
    }
   },
   "outputs": [],
   "source": [
    "from transformers import RobertaForSequenceClassification, RobertaConfig, RobertaTokenizer\n",
    "\n",
    "from src.model_compression.training_utils.datasets import (processors,output_modes, \n",
    "                                                           load_and_cache_examples)\n",
    "from  src.model_compression.training_utils.modules import RobertaForSpanClassification"
   ]
  },
  {
   "cell_type": "code",
   "outputs": [],
   "source": [
    "task_name = \"\"\n",
    "model_type = \"\"\n",
    "model_checkpoint = \"\"\n",
    "tokenizer_name = \"\"\n",
    "do_lower_case = False\n",
    "data_dir = \"\"\n",
    "output_dir = \"\""
   ],
   "metadata": {
    "collapsed": false,
    "ExecuteTime": {
     "end_time": "2024-04-04T09:25:06.093262Z",
     "start_time": "2024-04-04T09:25:06.087498Z"
    }
   },
   "id": "538701e721e53789",
   "execution_count": 0
  },
  {
   "cell_type": "code",
   "outputs": [],
   "source": [
    "MODEL_CLASSES = {\n",
    "    \"roberta\": (\n",
    "        RobertaConfig,\n",
    "        RobertaTokenizer,\n",
    "        {\"classification\": RobertaForSequenceClassification, \"span_classification\": RobertaForSpanClassification},\n",
    "    ),\n",
    "}\n",
    "tasks_num_spans = {\n",
    "    \"wic\": 2,\n",
    "    \"wsc\": 2,\n",
    "}"
   ],
   "metadata": {
    "collapsed": false,
    "ExecuteTime": {
     "end_time": "2024-04-04T09:25:06.095647Z",
     "start_time": "2024-04-04T09:25:06.090879Z"
    }
   },
   "id": "3d572b9b0f208760",
   "execution_count": 0
  },
  {
   "cell_type": "code",
   "outputs": [],
   "source": [
    "# Prepare task\n",
    "task_name = task_name.lower()\n",
    "assert task_name in processors, f\"Task {task_name} not found!\"\n",
    "processor = processors[task_name]()\n",
    "output_mode = output_modes[task_name]\n",
    "label_list = processor.get_labels() \n",
    "num_labels = len(label_list)"
   ],
   "metadata": {
    "collapsed": false,
    "ExecuteTime": {
     "end_time": "2024-04-04T09:25:06.096784Z",
     "start_time": "2024-04-04T09:25:06.093257Z"
    }
   },
   "id": "8ea9e4575c16739d",
   "execution_count": 0
  },
  {
   "cell_type": "code",
   "outputs": [],
   "source": [
    "model_type = model_type.lower()\n",
    "config_class, tokenizer_class, model_classes = MODEL_CLASSES[model_type]\n",
    "model_class = model_classes[output_mode]\n",
    "config = config_class.from_pretrained(\n",
    "    model_checkpoint,\n",
    "    num_labels=num_labels,\n",
    "    finetuning_task=task_name,\n",
    ")\n",
    "if output_mode == \"span_classification\":\n",
    "    config.num_spans = tasks_num_spans[task_name]\n",
    "tokenizer = tokenizer_class.from_pretrained(\n",
    "    tokenizer_name,\n",
    "    do_lower_case=do_lower_case,\n",
    ")\n",
    "model = model_class.from_pretrained(\n",
    "            model_checkpoint,\n",
    "            config=config,\n",
    "        )\n",
    "model.cuda()"
   ],
   "metadata": {
    "collapsed": false,
    "ExecuteTime": {
     "end_time": "2024-04-04T09:25:06.100924Z",
     "start_time": "2024-04-04T09:25:06.096151Z"
    }
   },
   "id": "c197c3610145c079",
   "execution_count": 0
  },
  {
   "cell_type": "code",
   "outputs": [],
   "source": [
    "train_dataset = load_and_cache_examples(task_name, tokenizer, data_dir) "
   ],
   "metadata": {
    "collapsed": false,
    "ExecuteTime": {
     "end_time": "2024-04-04T09:25:06.101182Z",
     "start_time": "2024-04-04T09:25:06.098795Z"
    }
   },
   "id": "f936be6214980df5",
   "execution_count": 0
  },
  {
   "cell_type": "code",
   "outputs": [],
   "source": [
    "global_step, tr_loss = train(train_dataset, model, tokenizer)"
   ],
   "metadata": {
    "collapsed": false
   },
   "id": "ee7630b41ba2ffbb"
  },
  {
   "cell_type": "code",
   "outputs": [],
   "source": [
    "result, preds, ex_ids = evaluate(task_name, model, tokenizer, prefix=\"\", use_tqdm=False)\n",
    "result = dict((f\"{k}\", v) for k, v in result.items())\n",
    "\n",
    "eval_task_names = (task_name,) # (\"rte\", \"ax-b\", \"ax-g\") if args.task_name == \"rte\" else (args.task_name,)\n",
    "for eval_task_name in eval_task_names:\n",
    "    result, preds, ex_ids = evaluate(\n",
    "        eval_task_name, model, tokenizer, split=\"test\", prefix=\"\", use_tqdm=False\n",
    "    )\n",
    "    processor = processors[eval_task_name]()\n",
    "    if task_name == \"record\":\n",
    "        answers = processor.get_answers(data_dir, \"test\")\n",
    "        processor.write_preds(preds, ex_ids, output_dir, answers=answers)\n",
    "    else:\n",
    "        processor.write_preds(preds, ex_ids, output_dir)"
   ],
   "metadata": {
    "collapsed": false
   },
   "id": "2ec6b7aa9be50ddf"
  }
 ],
 "metadata": {
  "kernelspec": {
   "display_name": "Python 3",
   "language": "python",
   "name": "python3"
  },
  "language_info": {
   "codemirror_mode": {
    "name": "ipython",
    "version": 2
   },
   "file_extension": ".py",
   "mimetype": "text/x-python",
   "name": "python",
   "nbconvert_exporter": "python",
   "pygments_lexer": "ipython2",
   "version": "2.7.6"
  }
 },
 "nbformat": 4,
 "nbformat_minor": 5
}
